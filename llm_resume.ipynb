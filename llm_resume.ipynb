{
 "cells": [
  {
   "cell_type": "markdown",
   "id": "8afa9855-92a3-430a-a94e-3bb91fec5a61",
   "metadata": {},
   "source": [
    "![ollama](https://ollama.ai/public/ollama.png)\n",
    "# LLM Useage to Create a Fresh Job Profile\n",
    "- Zan Sadiq"
   ]
  },
  {
   "cell_type": "code",
   "execution_count": 6,
   "id": "405b90cd-9b0a-434b-b77b-647fe5e66c5f",
   "metadata": {},
   "outputs": [],
   "source": [
    "# Imnport librries\n",
    "import os\n",
    "from transformers import AutoTokenizer, AutoModelForCausalLM, BitsAndBytesConfig, pipeline\n",
    "import torch\n",
    "from langchain.llms import Ollama"
   ]
  },
  {
   "cell_type": "code",
   "execution_count": 7,
   "id": "21c36bfd-86a8-4dd7-bf8f-28ab52abc47e",
   "metadata": {},
   "outputs": [],
   "source": [
    "# Config\n",
    "bnb_config = BitsAndBytesConfig(load_in_4bit = True,\n",
    "                                bnb_4bit_quant_type = \"nf4\",\n",
    "                                bnb_4bit_use_double_quant = True,)"
   ]
  },
  {
   "cell_type": "code",
   "execution_count": 8,
   "id": "0d8542c6-86f6-4b9b-afc0-09e5ea42f9d1",
   "metadata": {},
   "outputs": [],
   "source": [
    "# Init llm models for comp[arison\n",
    "llama2 = Ollama(model = \"llama2\") #, callback_manager = CallbackManager([StreamingStdOutCallbackHandler()]))\n",
    "mistral = Ollama(model = \"mistral\") #, callback_manager = CallbackManager([StreamingStdOutCallbackHandler()]))\n",
    "mixtral = Ollama(model = \"mixtral\") #, callback_manager = CallbackManager([StreamingStdOutCallbackHandler()]))"
   ]
  },
  {
   "cell_type": "code",
   "execution_count": 9,
   "id": "b203b6a2-255c-4793-8ec1-84b1ec132331",
   "metadata": {},
   "outputs": [],
   "source": [
    "# Read document resume\n",
    "with open('/home/human/Documents/zan_sadiq_resume.txt') as f:\n",
    "    \n",
    "    res = f.read()"
   ]
  },
  {
   "cell_type": "code",
   "execution_count": 10,
   "id": "dadf9139-fdcf-4ba0-afd0-72869e7b4f3f",
   "metadata": {},
   "outputs": [
    {
     "name": "stdout",
     "output_type": "stream",
     "text": [
      "Name: Zan Sadiq\n",
      "Experience:\n",
      "Senior Manager Data Scientist, Citi- 11/2022 - Present\n",
      "- Vice President of Enterprise Architecture Transformation & Implementation\n",
      "- Developed an NLP pipeline to classify business artifacts according to a process taxonomy with 600+ outcomes that achieved 97% accuracy on out-of-sample testing\n",
      "- Worked on a team to develop LLM applications allowing end-users to interact with a knowledge graph of operating facts using an LLM for natural language querying of neo4j database\n",
      "Senior Data Scientist, FedEx- 1/2022 – 10/2022\n",
      "- Operated on the Cybersecurity, InfoSec, Risk Analytics team fostering initiatives to develop enterprise ability to distinguish external threats\n",
      "- Built a novel pipeline to detect activity committed by fraudulent entities on FedEx Delivery Manager application\n",
      "Data Scientist, IBM, 11/2019 – 05/2021\n",
      "- Doubled the performance of a model used to detect fraud in the automobile insurance industry for the Financial Crimes Investigation team\n",
      "- Created a production system to forecast seasonal sales trends by product for a retailer working with the Data Science Elite team\n",
      "- Worked on the CloudPak Acceleration Team to help foster data science initiatives developed in private, hybrid cloud environments\n",
      "Data Scientist, Toyota Motor Corporation, 05/2018 – 10/2019\n",
      "- Created production models to forecast rates of attrition and predict employee churn\n",
      "- Conducted advanced NLP analysis and visualization on applicant resumes from the Toyota portal to inspect and understand hiring patterns and causal factors benefiting cultural fit\n",
      "Data Scientist, Customer Connect LLC, 06/2016 – 05/2018\n",
      "- Developed an apriori, market-basket, recommendation engine for production implementation to provide suggestions to customers as they shop\n",
      "Accomplishments:\n",
      "- 1st place, TI Marketing Analytics Competition- developed custom segmentation algorithm and optimized prices to maximize revenue\n",
      "- Cryptocurrency trade model showcased for Industry Advisory Board at UT Dallas, model was developed to recommend user actions based on previous 24-hour trading activities of cryptocurrency collected by user-built scraper\n",
      "- Built custom bots to interact with random content and increase following through user engagement on Instagram\n"
     ]
    }
   ],
   "source": [
    "print(res)"
   ]
  },
  {
   "cell_type": "code",
   "execution_count": 13,
   "id": "f2d4f6b7-901f-4407-add4-f5a113c901ba",
   "metadata": {},
   "outputs": [],
   "source": [
    "# Introduction\n",
    "introprompt = f'''\n",
    "                 You are an assistant to a data scientist. Use the following contextual information to devise an introduction to his profile:\n",
    "                 \n",
    "                 {res}\n",
    "              '''"
   ]
  },
  {
   "cell_type": "code",
   "execution_count": 16,
   "id": "8fb5a4cc-b5b5-453f-a22e-c0f24e4de91f",
   "metadata": {},
   "outputs": [
    {
     "name": "stdout",
     "output_type": "stream",
     "text": [
      "CPU times: user 141 ms, sys: 21.8 ms, total: 163 ms\n",
      "Wall time: 5min 20s\n"
     ]
    },
    {
     "data": {
      "text/plain": [
       "\"As the assistant to Zan Sadiq, I can confidently introduce him as a highly experienced and skilled data scientist with a proven track record of delivering impactful results in various industries. Currently serving as a Senior Manager Data Scientist at Citi, Zan has demonstrated exceptional leadership skills by overseeing the development of an NLP pipeline that achieved 97% accuracy on out-of-sample testing, and worked on a team to create LLM applications for natural language querying of a neo4j database.\\n\\nPrior to his current role, Zan gained valuable experience as a Senior Data Scientist at FedEx, where he played a crucial role in the Cybersecurity, InfoSec, Risk Analytics team. He developed a novel pipeline to detect fraudulent activities on the FedEx Delivery Manager application, showcasing his ability to think creatively and solve complex problems.\\n\\nZan's background also includes stints as a Data Scientist at IBM, where he doubled the performance of a model used to detect fraud in the automobile insurance industry for the Financial Crimes Investigation team. He also worked on the CloudPak Acceleration Team to foster data science initiatives developed in private, hybrid cloud environments.\\n\\nIn addition, Zan has demonstrated his expertise in forecasting seasonal sales trends by product for a retailer while working with the Data Science Elite team at IBM. He also created production models to forecast rates of attrition and predict employee churn during his time at Toyota Motor Corporation.\\n\\nZan's impressive portfolio of accomplishments includes winning first place in the TI Marketing Analytics Competition, where he developed a custom segmentation algorithm and optimized prices to maximize revenue. He has also showcased a cryptocurrency trade model to the Industry Advisory Board at UT Dallas, which was developed to recommend user actions based on previous 24-hour trading activities of cryptocurrency collected by user-built scraper.\\n\\nFurthermore, Zan has demonstrated his ability to build custom bots that can interact with random content and increase following through user engagement on Instagram. His extensive experience and achievements make him a valuable asset to any organization looking for a skilled data scientist who can deliver results.\""
      ]
     },
     "execution_count": 16,
     "metadata": {},
     "output_type": "execute_result"
    }
   ],
   "source": [
    "%time print(llama2(introprompt))"
   ]
  },
  {
   "cell_type": "code",
   "execution_count": 17,
   "id": "2f7cc11d-e04b-4b7a-92e8-4a128d9f2d14",
   "metadata": {},
   "outputs": [
    {
     "name": "stdout",
     "output_type": "stream",
     "text": [
      " Meet Zan Sadiq, a seasoned data scientist with an impressive background and a proven track record of delivering impactful results. With extensive experience spanning various industries including finance, logistics, retail, and automotive, Zan's expertise lies in leveraging advanced analytics techniques to drive business value.\n",
      "\n",
      "Most recently, at Citi, Zan served as a Senior Manager Data Scientist where he led the Vice President of Enterprise Architecture Transformation & Implementation. He developed an NLP pipeline to classify business artifacts according to a process taxonomy with over 600 outcomes, achieving impressive accuracy on out-of-sample testing. Additionally, Zan worked on a team to create LLM applications that enabled end-users to interact with a knowledge graph of operating facts using an LLM for natural language querying of neo4j databases.\n",
      "\n",
      "Prior to joining Citi, Zan made significant contributions as a Senior Data Scientist at FedEx where he operated on the Cybersecurity, InfoSec, Risk Analytics team, fostering initiatives to develop enterprise abilities to distinguish external threats. He built a novel pipeline to detect fraudulent activity committed by entities on the FedEx Delivery Manager application.\n",
      "\n",
      "At IBM, Zan honed his skills as a Data Scientist with the Financial Crimes Investigation team, where he doubled the performance of a model used to detect fraud in the automobile insurance industry. He also created a production system to forecast seasonal sales trends by product for a retailer and worked on the CloudPak Acceleration Team to help foster data science initiatives developed in private, hybrid cloud environments.\n",
      "\n",
      "Zan's earlier experiences include roles as a Data Scientist at Toyota Motor Corporation where he created production models to forecast rates of attrition and predict employee churn, and at Customer Connect LLC where he developed an apriori market-basket recommendation engine for production implementation.\n",
      "\n",
      "Throughout his career, Zan has amassed numerous accomplishments including placing first in the TI Marketing Analytics Competition by developing a custom segmentation algorithm and optimizing prices to maximize revenue. He also showcased a cryptocurrency trade model at UT Dallas' Industry Advisory Board and built custom bots to interact with random content and increase following through user engagement on Instagram.\n",
      "CPU times: user 150 ms, sys: 5.03 ms, total: 155 ms\n",
      "Wall time: 5min 15s\n"
     ]
    }
   ],
   "source": [
    "%time print(mistral(introprompt))"
   ]
  },
  {
   "cell_type": "code",
   "execution_count": 19,
   "id": "1f985704-4b6c-4260-939d-ad2a7c739065",
   "metadata": {},
   "outputs": [
    {
     "name": "stdout",
     "output_type": "stream",
     "text": [
      " Zan Sadiq is a highly experienced data scientist with a strong track record of delivering results in various industries, including finance, cybersecurity, retail, and automotive. Currently serving as a Senior Manager Data Scientist at Citi, Zan leads the Enterprise Architecture Transformation & Implementation team, where he recently developed an NLP pipeline that achieved 97% accuracy on out-of-sample testing for classifying business artifacts according to a process taxonomy with over 600 outcomes.\n",
      "\n",
      "Before joining Citi, Zan held positions at FedEx and IBM, where he worked on various projects related to cybersecurity risk analytics, fraud detection, and retail sales forecasting. At Toyota Motor Corporation, he focused on employee churn prediction and NLP analysis of job applicant resumes for cultural fit. As a data scientist at Customer Connect LLC, Zan developed an apriori market-basket recommendation engine for production implementation.\n",
      "\n",
      "Zan's accomplishments include winning first place in the TI Marketing Analytics Competition by developing a custom segmentation algorithm and optimizing prices to maximize revenue. He also showcased his cryptocurrency trade model for the Industry Advisory Board at UT Dallas, which recommended user actions based on previous 24-hour trading activities collected by a user-built scraper. In addition, Zan has built custom bots to interact with random content and increase following through user engagement on Instagram.\n",
      "\n",
      "Overall, Zan is an accomplished data scientist with a proven ability to develop and implement innovative solutions in various domains. His expertise spans NLP, fraud detection, recommendation systems, and cybersecurity risk analytics, making him a valuable asset to any organization seeking to leverage data science for strategic decision-making.\n",
      "CPU times: user 121 ms, sys: 10.3 ms, total: 132 ms\n",
      "Wall time: 7min 32s\n"
     ]
    }
   ],
   "source": [
    "%time print(mixtral(introprompt))"
   ]
  },
  {
   "cell_type": "code",
   "execution_count": 25,
   "id": "61182033-3e9f-4943-9826-520af3c48872",
   "metadata": {},
   "outputs": [],
   "source": [
    "# Experience\n",
    "work1 = '''\n",
    "            Senior Manager Data Scientist, Citi- 11/2022 - Present\n",
    "            - Vice President of Enterprise Architecture Transformation & Implementation\n",
    "            - Developed an NLP pipeline to classify business artifacts according to a process taxonomy with 600+ outcomes which achieved 97% accuracy on out-of-sample testing\n",
    "            - Worked on a team to develop LLM applications allowing end-users to interact with a knowledge graph of operating facts through using an LLM for natural language querying of neo4j database\n",
    "        '''\n",
    "\n",
    "workprompt = f'''\n",
    "                 You are an assistant to a data scientist. Summarize and embellish the following context for hireability purposes:\n",
    "                \n",
    "                 {work1}\n",
    "              '''"
   ]
  },
  {
   "cell_type": "code",
   "execution_count": 26,
   "id": "7cd66b7c-9721-44e2-adde-7b187295a3b2",
   "metadata": {},
   "outputs": [
    {
     "name": "stdout",
     "output_type": "stream",
     "text": [
      " As a Senior Manager Data Scientist at Citi, I have been serving as the Vice President of Enterprise Architecture Transformation and Implementation since November 2022. In this role, I have successfully developed an NLP pipeline to classify business artifacts according to a process taxonomy with over 600 possible outcomes. This sophisticated pipeline achieved a remarkable 97% accuracy rate in out-of-sample testing, demonstrating my expertise in natural language processing and machine learning techniques.\n",
      "\n",
      "In addition, I had the privilege of working as part of a dynamic team to develop large language model (LLM) applications that enable end-users to interact with a knowledge graph of operating facts using natural language querying of neo4j databases. This cutting-edge project allowed us to leverage the power of LLMs to provide our users with an intuitive and user-friendly interface for accessing complex data, showcasing my ability to collaborate effectively and deliver innovative solutions that meet real-world business needs.\n",
      "\n",
      "My background in data science and extensive experience developing and implementing NLP pipelines and LLM applications make me a valuable asset to any team. I am passionate about leveraging the latest technologies and techniques to drive business value and help organizations achieve their goals.\n",
      "CPU times: user 72 ms, sys: 18.2 ms, total: 90.3 ms\n",
      "Wall time: 3min 1s\n"
     ]
    }
   ],
   "source": [
    "%time print(mixtral(workprompt))"
   ]
  },
  {
   "cell_type": "code",
   "execution_count": 27,
   "id": "510839cf-280e-43ac-87cb-bf04e04c0384",
   "metadata": {},
   "outputs": [],
   "source": [
    "work2 = '''\n",
    "            Senior Data Scientist, FedEx- 1/2022 – 10/2022\n",
    "            - Operated on the Cybersecurity, InfoSec, Risk Analytics team fostering initiatives to develop enterprise ability to distinguish external threats\n",
    "            - Built a novel pipeline to detect activity committed by fraudulent entities on FedEx Delivery Manager application\n",
    "        '''\n",
    "\n",
    "workprompt = f'''\n",
    "                 You are an assistant to a data scientist. Summarize and embellish the following context for hireability purposes:\n",
    "                \n",
    "                 {work2}\n",
    "              '''"
   ]
  },
  {
   "cell_type": "code",
   "execution_count": 28,
   "id": "4ccf3b7a-3ebf-4850-9cab-25002435940d",
   "metadata": {},
   "outputs": [
    {
     "name": "stdout",
     "output_type": "stream",
     "text": [
      " As a Senior Data Scientist at FedEx, I was a valuable asset to the Cybersecurity, InfoSec, and Risk Analytics team from January 2022 to October 2022. During my tenure, I played a pivotal role in driving initiatives aimed at enhancing the enterprise's ability to identify external threats.\n",
      "\n",
      "One of my significant achievements was designing and implementing a cutting-edge pipeline to detect fraudulent activity on the FedEx Delivery Manager application. This novel approach allowed us to effectively distinguish between legitimate and illegitimate user behavior, thereby improving the security and reliability of our services. My ability to leverage data science techniques and tools to address complex cybersecurity challenges was instrumental in this project's success.\n",
      "\n",
      "In summary, my experience as a Senior Data Scientist at FedEx has equipped me with the skills and expertise necessary to tackle sophisticated data-driven problems, particularly in the realm of cybersecurity and risk analytics. My ability to collaborate effectively with cross-functional teams, combined with my technical prowess, makes me a highly valuable addition to any organization seeking to enhance its data science capabilities.\n",
      "CPU times: user 72.8 ms, sys: 3.95 ms, total: 76.7 ms\n",
      "Wall time: 2min 34s\n"
     ]
    }
   ],
   "source": [
    "%time print(mixtral(workprompt))"
   ]
  },
  {
   "cell_type": "code",
   "execution_count": 29,
   "id": "1ff87fdf-6958-49e2-b448-2c51ae25fcf9",
   "metadata": {},
   "outputs": [],
   "source": [
    "work3 = '''\n",
    "            Data Scientist, IBM, 11/2019 – 05/2021\n",
    "            - Doubled the performance of a model used to detect fraud in the automobile insurance industry for the Financial Crimes Investigation team\n",
    "            - Created a production system to forecast seasonal sales trends by product for a retailer working with the Data Science Elite team\n",
    "            - Worked on the CloudPak Acceleration Team to help foster data science initiatives developed in private, hybrid cloud environments\n",
    "        '''\n",
    "\n",
    "workprompt = f'''\n",
    "                 You are an assistant to a data scientist. Summarize and embellish the following context for hireability purposes:\n",
    "                \n",
    "                 {work3}\n",
    "              '''"
   ]
  },
  {
   "cell_type": "code",
   "execution_count": 30,
   "id": "b4030e50-6b1d-44cc-b695-f06fbd966595",
   "metadata": {},
   "outputs": [
    {
     "name": "stdout",
     "output_type": "stream",
     "text": [
      " As a Data Scientist at IBM from November 2019 to May 2021, I made significant contributions to various projects that had a substantial impact on the organizations I collaborated with.\n",
      "\n",
      "In my role on the Financial Crimes Investigation team, I successfully doubled the performance of a crucial model designed to detect fraud in the automobile insurance industry. This accomplishment not only improved the efficiency and accuracy of fraud detection but also reduced potential losses for the company and its clients, ultimately enhancing their trust and satisfaction.\n",
      "\n",
      "Working with the Data Science Elite team, I developed a production system tailored to forecast seasonal sales trends by product for a retail client. This cutting-edge solution empowered the retailer to optimize inventory management, target marketing efforts, and allocate resources more effectively, ultimately driving revenue growth and improving overall business performance.\n",
      "\n",
      "Moreover, I had the opportunity to contribute to IBM's CloudPak Acceleration Team, where I focused on fostering data science initiatives in private and hybrid cloud environments. In this role, I helped organizations transition their data science projects to scalable, secure, and flexible cloud platforms, thereby enabling them to harness the full potential of their data-driven insights and maintain a competitive edge in their respective industries.\n",
      "\n",
      "My experience at IBM has not only honed my technical skills but also provided me with valuable insights into addressing real-world business challenges using data science methodologies and cutting-edge technologies. I am confident that these abilities will enable me to excel in any role that requires the successful application of data analytics, machine learning, and predictive modeling techniques to drive innovation, enhance decision-making, and improve overall organizational performance.\n",
      "CPU times: user 87.6 ms, sys: 30.2 ms, total: 118 ms\n",
      "Wall time: 3min 40s\n"
     ]
    }
   ],
   "source": [
    "%time print(mixtral(workprompt))"
   ]
  },
  {
   "cell_type": "code",
   "execution_count": 31,
   "id": "38905a35-c207-4016-a6ec-09f40cbbf202",
   "metadata": {},
   "outputs": [],
   "source": [
    "work4 = '''\n",
    "            Data Scientist, Toyota Motor Corporation, 05/2018 – 10/2019\n",
    "            - Created production models to forecast rates of attrition and predict employee churn\n",
    "            - Conducted advanced NLP analysis and visualization on applicant resumes from the Toyota portal to inspect and understand hiring patterns and causal factors benefiting cultural fit\n",
    "        '''\n",
    "\n",
    "workprompt = f'''\n",
    "                 You are an assistant to a data scientist. Summarize and embellish the following context for hireability purposes:\n",
    "                \n",
    "                 {work4}\n",
    "              '''"
   ]
  },
  {
   "cell_type": "code",
   "execution_count": 32,
   "id": "ae361d39-8a6c-47b6-9824-c53ca1f6246e",
   "metadata": {},
   "outputs": [
    {
     "name": "stdout",
     "output_type": "stream",
     "text": [
      " As a Data Scientist at Toyota Motor Corporation from May 2018 to October 2019, I was responsible for developing and implementing production models to forecast employee attrition rates and predict potential employee churn. This involved leveraging statistical analysis and machine learning techniques to identify key factors influencing employee turnover and developing strategies to mitigate their impact.\n",
      "\n",
      "In addition to this, I also conducted advanced Natural Language Processing (NLP) analysis on applicant resumes obtained through the Toyota portal. The goal of this analysis was to inspect and understand hiring patterns and identify causal factors that contribute to cultural fit within the organization. By visualizing the data using various tools and techniques, I was able to uncover valuable insights that helped inform hiring decisions and improve overall employee satisfaction and retention rates.\n",
      "\n",
      "My experience at Toyota Motor Corporation allowed me to hone my skills in predictive modeling, NLP analysis, and data visualization, making me a valuable asset to any team looking to leverage data-driven insights to drive business outcomes. I am passionate about using my analytical skills and expertise in machine learning algorithms to solve complex problems and deliver actionable insights that drive impactful changes.\n",
      "CPU times: user 72.7 ms, sys: 10.9 ms, total: 83.6 ms\n",
      "Wall time: 2min 40s\n"
     ]
    }
   ],
   "source": [
    "%time print(mixtral(workprompt))"
   ]
  },
  {
   "cell_type": "code",
   "execution_count": 33,
   "id": "c1277355-4c1d-462a-b0b0-02dafd130bbe",
   "metadata": {},
   "outputs": [],
   "source": [
    "work5 = '''\n",
    "            Data Scientist, Customer Connect LLC, 06/2016 – 05/2018\n",
    "            - Developed an apriori, market-basket, recommendation engine for production implementation to provide suggestions to customers as they shop\n",
    "        '''\n",
    "\n",
    "workprompt = f'''\n",
    "                 You are an assistant to a data scientist. Summarize and embellish the following context for hireability purposes:\n",
    "                \n",
    "                 {work5}\n",
    "              '''"
   ]
  },
  {
   "cell_type": "code",
   "execution_count": 34,
   "id": "3d730fc5-34e9-4b1e-8f95-48004f73e3f1",
   "metadata": {},
   "outputs": [
    {
     "name": "stdout",
     "output_type": "stream",
     "text": [
      " As a Data Scientist at Customer Connect LLC from June 2016 to May 2018, I successfully developed an advanced recommendation engine based on the Apriori and market-basket algorithms. This cutting-edge technology provided personalized suggestions to customers in real-time as they shopped, enhancing their overall shopping experience and driving sales.\n",
      "\n",
      "My expertise in data analysis and machine learning allowed me to design and implement this recommendation engine from scratch, ensuring it was optimized for production use. I leveraged my strong understanding of customer behavior and market trends to create accurate and relevant recommendations that added value for the customer.\n",
      "\n",
      "My contributions to Customer Connect LLC included:\n",
      "\n",
      "* Designing and developing a sophisticated recommendation engine using Apriori and market-basket algorithms\n",
      "* Collaborating with cross-functional teams to integrate the recommendation engine into the company's production systems\n",
      "* Conducting extensive testing and optimization to ensure the recommendation engine performed accurately and efficiently\n",
      "* Analyzing customer data and market trends to create personalized and relevant recommendations\n",
      "* Providing ongoing support and maintenance for the recommendation engine, ensuring it remained up-to-date and effective.\n",
      "\n",
      "Overall, my experience as a Data Scientist at Customer Connect LLC allowed me to hone my skills in data analysis, machine learning, and algorithm development. I am confident that my expertise would be an asset to any organization looking to leverage data-driven insights to drive business success.\n",
      "CPU times: user 89.6 ms, sys: 11 ms, total: 101 ms\n",
      "Wall time: 2min 49s\n"
     ]
    }
   ],
   "source": [
    "%time print(mixtral(workprompt))"
   ]
  },
  {
   "cell_type": "code",
   "execution_count": 35,
   "id": "0a50ddff-0ce1-4392-b23d-0eb815f35285",
   "metadata": {},
   "outputs": [],
   "source": [
    "prompt = '''\n",
    "            You are an invaluable user-agent for a data scientist who is re-writing his resume with the use of an LLM.\n",
    "            \n",
    "            Provide an explanatory introduction for the endeavor\n",
    "         '''"
   ]
  },
  {
   "cell_type": "code",
   "execution_count": 36,
   "id": "8380d267-5992-4637-9274-c8182387b899",
   "metadata": {},
   "outputs": [
    {
     "name": "stdout",
     "output_type": "stream",
     "text": [
      " As a helpful and knowledgeable assistant, I am excited to help you, a data scientist, rewrite your resume using a large language model (LLM)! An LLM can analyze vast amounts of text data and provide insights on language structures, making it an excellent tool for crafting the perfect resume.\n",
      "\n",
      "Rewriting your resume with an LLM's assistance ensures that your skills and experiences are presented in the most effective way possible. By leveraging the LLM's understanding of language patterns, you can create a polished and engaging resume that stands out to potential employers. This process involves fine-tuning the LLM on relevant data, such as successful data scientist resumes or job descriptions, to ensure the generated text aligns with industry standards and expectations.\n",
      "\n",
      "In this endeavor, I will help guide you through each step of the process, offering tips and best practices for working with an LLM. Together, we can create a compelling and tailored resume that highlights your expertise as a data scientist and increases your chances of landing your dream job.\n",
      "CPU times: user 65.5 ms, sys: 9.21 ms, total: 74.7 ms\n",
      "Wall time: 2min\n"
     ]
    }
   ],
   "source": [
    "%time print(mixtral(prompt))"
   ]
  }
 ],
 "metadata": {
  "kernelspec": {
   "display_name": "Python 3 (ipykernel)",
   "language": "python",
   "name": "python3"
  },
  "language_info": {
   "codemirror_mode": {
    "name": "ipython",
    "version": 3
   },
   "file_extension": ".py",
   "mimetype": "text/x-python",
   "name": "python",
   "nbconvert_exporter": "python",
   "pygments_lexer": "ipython3",
   "version": "3.10.9"
  }
 },
 "nbformat": 4,
 "nbformat_minor": 5
}
