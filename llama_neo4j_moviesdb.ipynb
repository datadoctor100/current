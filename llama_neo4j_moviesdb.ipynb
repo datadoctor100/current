{
  "nbformat": 4,
  "nbformat_minor": 0,
  "metadata": {
    "colab": {
      "private_outputs": true,
      "provenance": [],
      "gpuType": "A100",
      "machine_shape": "hm",
      "mount_file_id": "1_HMyUn6Toor6zEDDTUpw1Hp8ZNjJf6at",
      "authorship_tag": "ABX9TyPmUPggKrW/HjPk0ql3NxEb",
      "include_colab_link": true
    },
    "kernelspec": {
      "name": "python3",
      "display_name": "Python 3"
    },
    "language_info": {
      "name": "python"
    },
    "accelerator": "GPU"
  },
  "cells": [
    {
      "cell_type": "markdown",
      "metadata": {
        "id": "view-in-github",
        "colab_type": "text"
      },
      "source": [
        "<a href=\"https://colab.research.google.com/github/doctorofdata/current/blob/main/llama_neo4j_moviesdb.ipynb\" target=\"_parent\"><img src=\"https://colab.research.google.com/assets/colab-badge.svg\" alt=\"Open In Colab\"/></a>"
      ]
    },
    {
      "cell_type": "code",
      "source": [
        "# Install packages\n",
        "!pip install colab-xterm #https://pypi.org/project/colab-xterm/\n",
        "%load_ext colabxterm\n",
        "\n",
        "!pip install colab-xterm -qqq\n",
        "!pip install langchain -qqq\n",
        "!pip install langchain_community -qqq\n",
        "!pip install streamlit -q\n",
        "!pip install neo4j -q\n",
        "!npm install -g localtunnel"
      ],
      "metadata": {
        "id": "mqZs0GMOA91s"
      },
      "execution_count": null,
      "outputs": []
    },
    {
      "cell_type": "code",
      "execution_count": null,
      "metadata": {
        "id": "SRzQEkw795kG"
      },
      "outputs": [],
      "source": [
        "# Import libraries\n",
        "import pandas as pd\n",
        "import tensorflow as tf\n",
        "from psutil import virtual_memory\n",
        "from langchain_community.llms import Ollama\n",
        "import os\n",
        "from langchain_community.graphs import Neo4jGraph\n",
        "from langchain_community.embeddings import OllamaEmbeddings\n",
        "from langchain_community.vectorstores import Neo4jVector\n",
        "from langchain.chains import GraphCypherQAChain"
      ]
    },
    {
      "cell_type": "code",
      "source": [
        "# Check GPU\n",
        "gpu_info = tf.config.list_physical_devices('GPU')\n",
        "print(f\"GPU Info: {gpu_info}\")"
      ],
      "metadata": {
        "id": "RIPzL29I_ggC"
      },
      "execution_count": null,
      "outputs": []
    },
    {
      "cell_type": "code",
      "source": [
        "# Check RAM\n",
        "ram_info = virtual_memory()\n",
        "print(f\"Total RAM: {ram_info.total / (1024**3)} GB\")"
      ],
      "metadata": {
        "id": "LhdlQPj9Ag6X"
      },
      "execution_count": null,
      "outputs": []
    },
    {
      "cell_type": "code",
      "source": [
        "# curl -fsSL https://ollama.com/install.sh | sh\n",
        "# ollama serve & ollama pull llama3\n",
        "\n",
        "%xterm"
      ],
      "metadata": {
        "id": "Ab_nb9ziDGRx"
      },
      "execution_count": null,
      "outputs": []
    },
    {
      "cell_type": "code",
      "source": [
        "%xterm"
      ],
      "metadata": {
        "id": "x18vRwINsn6o"
      },
      "execution_count": null,
      "outputs": []
    },
    {
      "cell_type": "code",
      "source": [
        "llm = Ollama(model = 'llama3.1')"
      ],
      "metadata": {
        "id": "NbXRowiAEgtM"
      },
      "execution_count": null,
      "outputs": []
    },
    {
      "cell_type": "code",
      "source": [
        "response = llm.invoke(\"What is the capital of Florida?\")\n",
        "print(response)"
      ],
      "metadata": {
        "id": "qIyXN_KeFubN"
      },
      "execution_count": null,
      "outputs": []
    },
    {
      "cell_type": "code",
      "source": [
        "# Credentialing for access to neo4j\n",
        "graph = Neo4jGraph(url = \"bolt://54.237.145.20:7687\", username = \"neo4j\", password = \"halts-reason-wines\", enhanced_schema = True)"
      ],
      "metadata": {
        "id": "q5GRQB9xkTZJ"
      },
      "execution_count": null,
      "outputs": []
    },
    {
      "cell_type": "code",
      "source": [
        "print(graph.schema)"
      ],
      "metadata": {
        "id": "OlzjgOvkiO6V"
      },
      "execution_count": null,
      "outputs": []
    },
    {
      "cell_type": "code",
      "source": [
        "# Init an embedding model\n",
        "ollama_emb = OllamaEmbeddings(model = \"llama3.1\",)"
      ],
      "metadata": {
        "id": "j9-kSwgzmNal"
      },
      "execution_count": null,
      "outputs": []
    },
    {
      "cell_type": "code",
      "source": [
        "chain = GraphCypherQAChain.from_llm(llm, graph = graph, verbose = True, allow_dangerous_requests = True)"
      ],
      "metadata": {
        "id": "memkkG5Wrkh-"
      },
      "execution_count": null,
      "outputs": []
    },
    {
      "cell_type": "code",
      "source": [
        "chain.invoke({\"query\": \"Who played in Top Gun?\"})"
      ],
      "metadata": {
        "id": "ugIMue6BplOB"
      },
      "execution_count": null,
      "outputs": []
    }
  ]
}