{
  "nbformat": 4,
  "nbformat_minor": 0,
  "metadata": {
    "colab": {
      "private_outputs": true,
      "provenance": [],
      "gpuType": "A100",
      "machine_shape": "hm"
    },
    "kernelspec": {
      "name": "python3",
      "display_name": "Python 3"
    },
    "language_info": {
      "name": "python"
    },
    "accelerator": "GPU"
  },
  "cells": [
    {
      "cell_type": "code",
      "source": [
        "# Install packages\n",
        "!pip install colab-xterm #https://pypi.org/project/colab-xterm/\n",
        "%load_ext colabxterm\n",
        "\n",
        "!pip install colab-xterm -qqq\n",
        "!pip install langchain -qqq\n",
        "!pip install langchain_community -qqq\n",
        "!pip install streamlit -q\n",
        "!npm install -g localtunnel"
      ],
      "metadata": {
        "id": "mqZs0GMOA91s"
      },
      "execution_count": null,
      "outputs": []
    },
    {
      "cell_type": "code",
      "execution_count": null,
      "metadata": {
        "id": "SRzQEkw795kG"
      },
      "outputs": [],
      "source": [
        "# Import libraries\n",
        "import pandas as pd\n",
        "import tensorflow as tf\n",
        "from psutil import virtual_memory\n",
        "from langchain_community.llms import Ollama\n",
        "import os"
      ]
    },
    {
      "cell_type": "code",
      "source": [
        "# Check GPU\n",
        "gpu_info = tf.config.list_physical_devices('GPU')\n",
        "print(f\"GPU Info: {gpu_info}\")"
      ],
      "metadata": {
        "id": "RIPzL29I_ggC"
      },
      "execution_count": null,
      "outputs": []
    },
    {
      "cell_type": "code",
      "source": [
        "# Check RAM\n",
        "ram_info = virtual_memory()\n",
        "print(f\"Total RAM: {ram_info.total / (1024**3)} GB\")"
      ],
      "metadata": {
        "id": "LhdlQPj9Ag6X"
      },
      "execution_count": null,
      "outputs": []
    },
    {
      "cell_type": "code",
      "source": [
        "# curl -fsSL https://ollama.com/install.sh | sh\n",
        "# ollama serve & ollama pull llama3\n",
        "\n",
        "%xterm"
      ],
      "metadata": {
        "id": "Ab_nb9ziDGRx"
      },
      "execution_count": null,
      "outputs": []
    },
    {
      "cell_type": "code",
      "source": [
        "%xterm"
      ],
      "metadata": {
        "id": "we4LNImiz0hr"
      },
      "execution_count": null,
      "outputs": []
    },
    {
      "cell_type": "code",
      "source": [
        "llm = Ollama(model = 'llama3.1')"
      ],
      "metadata": {
        "id": "NbXRowiAEgtM"
      },
      "execution_count": null,
      "outputs": []
    },
    {
      "cell_type": "code",
      "source": [
        "response = llm.invoke(\"What is the capital of Florida?\")\n",
        "print(response)"
      ],
      "metadata": {
        "id": "qIyXN_KeFubN"
      },
      "execution_count": null,
      "outputs": []
    },
    {
      "cell_type": "code",
      "source": [
        "res = '''\n",
        "            Name: Zan Sadiq\n",
        "            Experience:\n",
        "            Senior Data Scientist, Citi- 11/2022 - 05/2024\n",
        "            - Vice President of Enterprise Architecture Transformation & Implementation\n",
        "            - Developed an NLP pipeline to classify business artifacts according to a process taxonomy with 600+ outcomes that achieved 97% accuracy on out-of-sample testing\n",
        "            - Worked on a team to develop LLM applications allowing end-users to interact with a knowledge graph of operating facts using an LLM for natural language querying of neo4j database\n",
        "            Senior Data Scientist, FedEx- 1/2022 – 10/2022\n",
        "            - Operated on the Cybersecurity, InfoSec, Risk Analytics team fostering initiatives to develop enterprise ability to distinguish external threats\n",
        "            - Built a novel pipeline to detect activity committed by fraudulent entities on FedEx Delivery Manager application\n",
        "            Data Scientist, IBM, 11/2019 – 05/2021\n",
        "            - Doubled the performance of a model used to detect fraud in the automobile insurance industry for the Financial Crimes Investigation team\n",
        "            - Created a production system to forecast seasonal sales trends by product for a retailer working with the Data Science Elite team\n",
        "            - Worked on the CloudPak Acceleration Team to help foster data science initiatives developed in private, hybrid cloud environments\n",
        "            Data Scientist, Toyota Motor Corporation, 05/2018 – 10/2019\n",
        "            - Created production models to forecast rates of attrition and predict employee churn\n",
        "            - Conducted advanced NLP analysis and visualization on applicant resumes from the Toyota portal to inspect and understand hiring patterns and causal factors benefiting cultural fit\n",
        "            Data Scientist, Customer Connect LLC, 06/2016 – 05/2018\n",
        "            - Developed an apriori, market-basket, recommendation engine for production implementation to provide suggestions to customers as they shop\n",
        "            Accomplishments:\n",
        "            - 1st place, TI Marketing Analytics Competition- developed custom segmentation algorithm and optimized prices to maximize revenue\n",
        "            - Cryptocurrency trade model showcased for Industry Advisory Board at UT Dallas, model was developed to recommend user actions based on previous 24-hour trading activities of cryptocurrency collected by user-built scraper\n",
        "            - Built custom bots to interact with random content and increase following through user engagement on Instagram\n",
        "        '''\n",
        "\n",
        "# Generate a user intro with the provided information\n",
        "introprompt = f'''\n",
        "                 You are an assistant to a data scientist. Use the following contextual information to devise an introduction to his profile:\n",
        "\n",
        "                 {res}\n",
        "              '''"
      ],
      "metadata": {
        "id": "Pzyu5TmiH5F8"
      },
      "execution_count": null,
      "outputs": []
    },
    {
      "cell_type": "code",
      "source": [
        "%time print(llm(introprompt))"
      ],
      "metadata": {
        "id": "dYib_17E1VPm"
      },
      "execution_count": null,
      "outputs": []
    },
    {
      "cell_type": "code",
      "source": [],
      "metadata": {
        "id": "9M_tF9zH1VM0"
      },
      "execution_count": null,
      "outputs": []
    },
    {
      "cell_type": "code",
      "source": [],
      "metadata": {
        "id": "-OWKHWPM1VJ5"
      },
      "execution_count": null,
      "outputs": []
    },
    {
      "cell_type": "code",
      "source": [],
      "metadata": {
        "id": "P5IB1ESk1VGq"
      },
      "execution_count": null,
      "outputs": []
    },
    {
      "cell_type": "code",
      "source": [],
      "metadata": {
        "id": "S2s-63Bo1VDz"
      },
      "execution_count": null,
      "outputs": []
    },
    {
      "cell_type": "code",
      "source": [],
      "metadata": {
        "id": "JXfVKgfo1VBR"
      },
      "execution_count": null,
      "outputs": []
    },
    {
      "cell_type": "code",
      "source": [],
      "metadata": {
        "id": "25BMuDT_1U-L"
      },
      "execution_count": null,
      "outputs": []
    },
    {
      "cell_type": "code",
      "source": [],
      "metadata": {
        "id": "Kq8dkC2H1U7R"
      },
      "execution_count": null,
      "outputs": []
    },
    {
      "cell_type": "code",
      "source": [],
      "metadata": {
        "id": "EqFdIlk61Uxl"
      },
      "execution_count": null,
      "outputs": []
    }
  ]
}